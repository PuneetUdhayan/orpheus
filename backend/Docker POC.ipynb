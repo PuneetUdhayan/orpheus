{
 "cells": [
  {
   "cell_type": "code",
   "execution_count": null,
   "id": "a1f4027f-1d43-458b-872d-c1fdd5c93a94",
   "metadata": {},
   "outputs": [],
   "source": [
    "import docker\n",
    "\n",
    "# Define variables\n",
    "IMAGE_NAME = \"your-dockerhub-username/your-image-name\"\n",
    "TAG = \"latest\"\n",
    "BUILD_CONTEXT = \"./path-to-your-docker-context\"\n",
    "REGISTRY = \"your-dockerhub-username\"\n",
    "\n",
    "# Initialize Docker client\n",
    "client = docker.from_env()\n",
    "\n",
    "def build_and_push_image():\n",
    "    try:\n",
    "        print(f\"Building Docker image: {IMAGE_NAME}:{TAG}...\")\n",
    "        image, build_logs = client.images.build(path=BUILD_CONTEXT, tag=f\"{IMAGE_NAME}:{TAG}\")\n",
    "\n",
    "        # Print build logs\n",
    "        for log in build_logs:\n",
    "            if \"stream\" in log:\n",
    "                print(log[\"stream\"].strip())\n",
    "\n",
    "        print(f\"Successfully built {IMAGE_NAME}:{TAG}\")\n",
    "\n",
    "        # Push the image\n",
    "        print(f\"Pushing image {IMAGE_NAME}:{TAG} to {REGISTRY}...\")\n",
    "        push_logs = client.images.push(IMAGE_NAME, tag=TAG, stream=True, decode=True)\n",
    "\n",
    "        # Print push logs\n",
    "        for log in push_logs:\n",
    "            if \"status\" in log:\n",
    "                print(log[\"status\"])\n",
    "\n",
    "        print(\"Image pushed successfully!\")\n",
    "\n",
    "    except docker.errors.BuildError as e:\n",
    "        print(f\"Build failed: {e}\")\n",
    "    except docker.errors.APIError as e:\n",
    "        print(f\"Docker API error: {e}\")\n",
    "\n",
    "if __name__ == \"__main__\":\n",
    "    build_and_push_image()"
   ]
  }
 ],
 "metadata": {
  "kernelspec": {
   "display_name": "Python 3 (ipykernel)",
   "language": "python",
   "name": "python3"
  },
  "language_info": {
   "codemirror_mode": {
    "name": "ipython",
    "version": 3
   },
   "file_extension": ".py",
   "mimetype": "text/x-python",
   "name": "python",
   "nbconvert_exporter": "python",
   "pygments_lexer": "ipython3",
   "version": "3.10.13"
  }
 },
 "nbformat": 4,
 "nbformat_minor": 5
}
