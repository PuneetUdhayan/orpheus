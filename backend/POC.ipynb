{
 "cells": [
  {
   "cell_type": "markdown",
   "id": "d9492259-a955-4e01-a839-d608b45219b3",
   "metadata": {},
   "source": [
    "# POC for scraping framework\n",
    "\n",
    "### General idea\n",
    "\n",
    "There will be three personas:\n",
    "- Developers\n",
    "- Analysts\n",
    "- Devops\n",
    "\n",
    "Developers will create tools (Python functions). They will define the input and output structures of these tools. The functions will be automatically deployed as separate images in Kubernetes.\n",
    "Analysts will prompt the system to fetch specific data. The system will pick the required tools and chain tools, if necessary, to get the desired output.\n",
    "\n",
    "### Work areas:\n",
    "\n",
    "#### Orchastation engine\n",
    "\n",
    "The analyst's prompts will be passed to a backend where LLMs will be used to identify the required tools and chain them. This graph should be displayed to the user, who will confirm, and the execution will begin.\n",
    "\n",
    "Example of analyts prompt could be: \n",
    "``` \n",
    "Get me all reviews for the products in https://www.amazon.in/s?k=pesticides&crid=2OH7HH2FLCMK6&sprefix=pesticide%2Caps%2C219&ref=nb_sb_noss_2\n",
    "```\n",
    "\n",
    "#### Tool development flow\n",
    "\n",
    "Developers should be able to write tools to a repo in a given format. That repo should be registered in the system. The system will then listen for changes and create docker images for the tools automatically.\n",
    "There should be logs collected for each tool and run that should be accessible to the developers. \n",
    "\n",
    "#### DevOps engineer\n",
    "\n",
    "The devlops engineer should be able to use the coud specific setup code (infra as code) to easily set up the application in their environments.\n",
    "\n",
    "---\n"
   ]
  },
  {
   "cell_type": "code",
   "execution_count": 11,
   "id": "ef5b79f6-e1d7-444d-9a16-340d73d1b4d9",
   "metadata": {},
   "outputs": [],
   "source": [
    "%%capture --no-stderr\n",
    "%pip install --quiet -U langchain_openai langchain_core langgraph"
   ]
  },
  {
   "cell_type": "markdown",
   "id": "95d76478-ff23-4cd6-906c-3e87eec54294",
   "metadata": {},
   "source": [
    "## Orchastation engine"
   ]
  },
  {
   "cell_type": "markdown",
   "id": "cc93f91a-6f0f-4b27-879d-2e563658d52f",
   "metadata": {},
   "source": [
    "Create tools which take a single input and create a single output. The inputs and outputs must be a pydantic object.\n",
    "\n",
    "Below are some dummy tools"
   ]
  },
  {
   "cell_type": "code",
   "execution_count": 400,
   "id": "59dc0ba9-6b7f-42fc-8f1a-7e0be8d392e6",
   "metadata": {},
   "outputs": [],
   "source": [
    "import datetime\n",
    "from typing import List, Optional\n",
    "from pydantic import BaseModel, Field, HttpUrl\n",
    "from langchain.tools import StructuredTool\n",
    "\n",
    "# --- Amazon Structures ---\n",
    "\n",
    "class AmazonProductScraperInputs(BaseModel):\n",
    "    product_url: HttpUrl = Field(\n",
    "        ...,\n",
    "        description=\"Amazon product URL. Example: https://www.amazon.com/dp/B09B2SBHQK or https://www.amazon.in/dp/B0BY8MXBPM\"\n",
    "    )\n",
    "\n",
    "class AmazonProduct(BaseModel):\n",
    "    title: str = Field(..., description=\"Product title\")\n",
    "    url: HttpUrl = Field(\n",
    "        ...,\n",
    "        description=\"Canonical Amazon product URL. Example: https://www.amazon.com/dp/B09B2SBHQK\"\n",
    "    )\n",
    "    image_urls: List[HttpUrl] = Field(\n",
    "        ...,\n",
    "        description=\"List of product image URLs. Example: ['https://m.media-amazon.com/images/I/71xb2xkN5qL._AC_SL1500_.jpg']\"\n",
    "    )\n",
    "    price: float = Field(..., description=\"Pricing details of the product\")\n",
    "    rating: Optional[float] = Field(None, description=\"Product rating (0-5)\")\n",
    "    review_count: Optional[int] = Field(0, description=\"Number of reviews\")\n",
    "    availability: Optional[str] = Field(None, description=\"Product availability status (e.g., 'In Stock', 'Currently unavailable')\")\n",
    "    features: Optional[List[str]] = Field(None, description=\"List of key product features (often bullet points)\")\n",
    "    seller: Optional[str] = Field(None, description=\"Seller name (e.g., 'Amazon.com', 'Sold by X, Fulfilled by Amazon')\")\n",
    "    asin: str = Field(..., description=\"Amazon Standard Identification Number (ASIN)\")\n",
    "\n",
    "class AmazonPLPInputs(BaseModel):\n",
    "    product_url: HttpUrl = Field(\n",
    "        ...,\n",
    "        description=\"\"\"Amazon product listing page URL (search results, category/browse node).\n",
    "        Example .com Search URL: https://www.amazon.com/s?k=echo+dot\n",
    "        Example .com Browse Node URL: https://www.amazon.com/gp/browse.html?node=172282\n",
    "        Example .in Search URL: https://www.amazon.in/s?k=smartphones&ref=nb_sb_noss_2\n",
    "        Example .in Browse Node URL: https://www.amazon.in/gp/browse.html?node=1389401031\"\"\"\n",
    "    )\n",
    "    max_count: Optional[int] = Field(None, description=\"Limit the number of products that are returned\")\n",
    "\n",
    "class AmazonPLPItem(BaseModel):\n",
    "    url: HttpUrl = Field(\n",
    "        ...,\n",
    "        description=\"URL of the Amazon product found on the listing page. Example: https://www.amazon.com/dp/B09B2SBHQK\"\n",
    "    )\n",
    "\n",
    "def amazon_product_scraper(item:AmazonProductScraperInputs) -> AmazonProduct:\n",
    "    \"\"\"\n",
    "    Scraper to fetch a product's information from the product page of Amazon.\n",
    "    \"\"\"\n",
    "    return AmazonProduct(\n",
    "        title=\"Echo Dot (5th Gen, 2022 release) | Smart speaker with Alexa | Charcoal\",\n",
    "        url=\"https://www.amazon.com/dp/B09B2SBHQK\", # Example URL\n",
    "        image_urls=[\"https://m.media-amazon.com/images/I/71xb2xkN5qL._AC_SL1500_.jpg\"], # Example URL\n",
    "        price=49.99,\n",
    "        rating=4.7,\n",
    "        review_count=156000,\n",
    "        availability=\"In Stock\",\n",
    "        features=[\"Our best sounding Echo Dot yet\", \"Control music with your voice\", \"Ask Alexa for weather, news, timers, etc.\", \"Control compatible smart home devices\"],\n",
    "        seller=\"Amazon.com\",\n",
    "        asin=\"B09B2SBHQK\" # Matches example URL\n",
    "    )\n",
    "\n",
    "def amazon_plp_scraper(item:AmazonPLPInputs) -> List[AmazonPLPItem]:\n",
    "    \"\"\"\n",
    "    Scraper to fetch all products from an Amazon product listing page.\n",
    "    \"\"\"\n",
    "    return [\n",
    "        AmazonPLPItem(url=\"https://www.amazon.com/dp/B09B2SBHQK\"), # Example URL 1\n",
    "        AmazonPLPItem(url=\"https://www.amazon.com/dp/B09B2SWS7B\")  # Example URL 2 (different color maybe)\n",
    "        ]\n",
    "\n",
    "# --- Walmart Structures ---\n",
    "\n",
    "class WalmartProductScraperInputs(BaseModel):\n",
    "    product_url: HttpUrl = Field(\n",
    "        ...,\n",
    "        description=\"Walmart product URL. Example: https://www.walmart.com/ip/onn-Android-TV-4K-UHD-Streaming-Device-with-Voice-Remote-Control-HDMI-Cable/606421073\"\n",
    "    )\n",
    "\n",
    "class WalmartProduct(BaseModel):\n",
    "    title: str = Field(..., description=\"Product title\")\n",
    "    url: HttpUrl = Field(\n",
    "        ...,\n",
    "        description=\"Canonical Walmart product URL. Example: https://www.walmart.com/ip/onn-Android-TV-4K-UHD-Streaming-Device-with-Voice-Remote-Control-HDMI-Cable/606421073\"\n",
    "    )\n",
    "    image_urls: List[HttpUrl] = Field(\n",
    "        ...,\n",
    "        description=\"List of product image URLs. Example: ['https://i5.walmartimages.com/seo/onn-Android-TV-4K-UHD-Streaming-Device-with-Voice-Remote-Control-HDMI-Cable_bfc53150-8b17-4644-b94d-f66b3a7de9e2.1a0c28b08e4b4049aa7aad7d339b1db1.jpeg']\"\n",
    "    )\n",
    "    price: float = Field(..., description=\"Pricing details of the product\")\n",
    "    rating: Optional[float] = Field(None, description=\"Product rating (0-5)\")\n",
    "    review_count: Optional[int] = Field(0, description=\"Number of reviews\")\n",
    "    availability: Optional[str] = Field(None, description=\"Product availability status\")\n",
    "    features: Optional[List[str]] = Field(None, description=\"List of key product features\")\n",
    "    seller: Optional[str] = Field(None, description=\"Seller name (e.g., 'Walmart', 'Sold and shipped by...')\")\n",
    "    item_id: str = Field(..., description=\"Walmart Item ID or Product ID\")\n",
    "\n",
    "class WalmartPLPInputs(BaseModel):\n",
    "    product_url: HttpUrl = Field(\n",
    "        ...,\n",
    "        description=\"\"\"Walmart product listing page URL (e.g., search results, category page).\n",
    "        Example Search URL: https://www.walmart.com/search?q=laptop\n",
    "        Example Category URL: https://www.walmart.com/browse/electronics/tvs/1060825_1071960\"\"\"\n",
    "    )\n",
    "    max_count: Optional[int] = Field(None, description=\"Limit the number of products that are returned\")\n",
    "\n",
    "class WalmartPLPItem(BaseModel):\n",
    "    url: HttpUrl = Field(\n",
    "        ...,\n",
    "        description=\"URL of the Walmart product found on the listing page. Example: https://www.walmart.com/ip/onn-4K-Pro-Streaming-Device-Google-TV-Hands-Free-Voice-Control-Find-My-Remote/5094809539\"\n",
    "    )\n",
    "\n",
    "def walmart_product_scraper(item: WalmartProductScraperInputs) -> WalmartProduct:\n",
    "    \"\"\"\n",
    "    Scraper to fetch a product's information from the product page of Walmart.\n",
    "    \"\"\"\n",
    "    return WalmartProduct(\n",
    "        title=\"onn. Android TV 4K UHD Streaming Device with Voice Remote Control & HDMI Cable\",\n",
    "        url=\"https://www.walmart.com/ip/onn-Android-TV-4K-UHD-Streaming-Device-with-Voice-Remote-Control-HDMI-Cable/606421073\",\n",
    "        image_urls=[\"https://i5.walmartimages.com/seo/onn-Android-TV-4K-UHD-Streaming-Device-with-Voice-Remote-Control-HDMI-Cable_bfc53150-8b17-4644-b94d-f66b3a7de9e2.1a0c28b08e4b4049aa7aad7d339b1db1.jpeg\"],\n",
    "        price=19.88,\n",
    "        rating=4.5,\n",
    "        review_count=6400,\n",
    "        availability=\"In stock\",\n",
    "        features=[\"4K Ultra High-Definition resolution\", \"Wi-Fi: 2.4/5GHz 802.11 a/b/g/n/ac MIMO\", \"Android TV OS\", \"Google Assistant built-in\"],\n",
    "        seller=\"Sold and shipped by Walmart\",\n",
    "        item_id=\"606421073\"\n",
    "    )\n",
    "\n",
    "def walmart_plp_scraper(item: WalmartPLPInputs) -> List[WalmartPLPItem]:\n",
    "    \"\"\"\n",
    "    Scraper to fetch all products from a Walmart product listing page.\n",
    "    \"\"\"\n",
    "    return [\n",
    "        WalmartPLPItem(url=\"https://www.walmart.com/ip/onn-Android-TV-4K-UHD-Streaming-Device-with-Voice-Remote-Control-HDMI-Cable/606421073\"),\n",
    "        WalmartPLPItem(url=\"https://www.walmart.com/ip/onn-4K-Pro-Streaming-Device-Google-TV-Hands-Free-Voice-Control-Find-My-Remote/5094809539\")\n",
    "    ]\n",
    "\n",
    "# --- Target Structures ---\n",
    "\n",
    "class TargetProductScraperInputs(BaseModel):\n",
    "    product_url: HttpUrl = Field(\n",
    "        ...,\n",
    "        description=\"Target product URL. Example: https://www.target.com/p/apple-ipad-10-9-inch-wi-fi-64gb-silver/-/A-87464948\"\n",
    "    )\n",
    "\n",
    "class TargetProduct(BaseModel):\n",
    "    title: str = Field(..., description=\"Product title\")\n",
    "    url: HttpUrl = Field(\n",
    "        ...,\n",
    "        description=\"Canonical Target product URL. Example: https://www.target.com/p/apple-ipad-10-9-inch-wi-fi-64gb-silver/-/A-87464948\"\n",
    "    )\n",
    "    image_urls: List[HttpUrl] = Field(\n",
    "        ...,\n",
    "        description=\"List of product image URLs. Example: ['https://target.scene7.com/is/image/Target/GUEST_f3d138a9-9f8f-46ae-9da3-e427b3d6aba2?wid=800&hei=800&qlt=80&fmt=webp']\"\n",
    "    )\n",
    "    price: float = Field(..., description=\"Pricing details of the product\")\n",
    "    rating: Optional[float] = Field(None, description=\"Product rating (usually 0-5)\")\n",
    "    review_count: Optional[int] = Field(0, description=\"Number of reviews\")\n",
    "    availability: Optional[str] = Field(None, description=\"Product availability status (e.g., 'In stock', 'Out of stock', 'Ship it', 'Pick it up')\")\n",
    "    features: Optional[List[str]] = Field(None, description=\"List of key product features or highlights\")\n",
    "    seller: Optional[str] = Field(\"Target\", description=\"Usually 'Target' or 'Sold and shipped by Target'\")\n",
    "    tcin: str = Field(..., description=\"Target Category ID Number (TCIN)\")\n",
    "\n",
    "class TargetPLPInputs(BaseModel):\n",
    "    product_url: HttpUrl = Field(\n",
    "        ...,\n",
    "        description=\"\"\"Target product listing page URL (e.g., search results, category page).\n",
    "        Example Search URL: https://www.target.com/s?searchTerm=coffee+maker\n",
    "        Example Category URL: https://www.target.com/c/kitchen-dining/-/N-5xtrz\"\"\"\n",
    "    )\n",
    "    max_count: Optional[int] = Field(None, description=\"Limit the number of products that are returned\")\n",
    "\n",
    "class TargetPLPItem(BaseModel):\n",
    "    url: HttpUrl = Field(\n",
    "        ...,\n",
    "        description=\"URL of the Target product found on the listing page. Example: https://www.target.com/p/keurig-k-mini-single-serve-k-cup-pod-coffee-maker/-/A-53790797\"\n",
    "    )\n",
    "\n",
    "def target_product_scraper(item: TargetProductScraperInputs) -> TargetProduct:\n",
    "    \"\"\"\n",
    "    Scraper to fetch a product's information from the product page of Target.\n",
    "    \"\"\"\n",
    "    return TargetProduct(\n",
    "        title=\"Apple iPad 10.9-inch Wi-Fi (2022, 10th Generation)\",\n",
    "        url=\"https://www.target.com/p/apple-ipad-10-9-inch-wi-fi-64gb-silver/-/A-87464948\",\n",
    "        image_urls=[\"https://target.scene7.com/is/image/Target/GUEST_f3d138a9-9f8f-46ae-9da3-e427b3d6aba2?wid=800&hei=800&qlt=80&fmt=webp\"],\n",
    "        price=449.99,\n",
    "        rating=4.6,\n",
    "        review_count=850,\n",
    "        availability=\"Ship it\",\n",
    "        features=[\"Striking 10.9-inch Liquid Retina display\", \"A14 Bionic chip\", \"12MP Wide back camera\", \"Landscape 12MP Ultra Wide front camera\"],\n",
    "        seller=\"Target\",\n",
    "        tcin=\"87464948\"\n",
    "    )\n",
    "\n",
    "def target_plp_scraper(item: TargetPLPInputs) -> List[TargetPLPItem]:\n",
    "    \"\"\"\n",
    "    Scraper to fetch all products from a Target product listing page.\n",
    "    \"\"\"\n",
    "    return [\n",
    "        TargetPLPItem(url=\"https://www.target.com/p/apple-ipad-10-9-inch-wi-fi-64gb-silver/-/A-87464948\"),\n",
    "        TargetPLPItem(url=\"https://www.target.com/p/keurig-k-mini-single-serve-k-cup-pod-coffee-maker/-/A-53790797\")\n",
    "    ]\n",
    "\n",
    "# --- Twitter Structures ---\n",
    "\n",
    "class TwitterTweetScraperInputs(BaseModel):\n",
    "    tweet_url: HttpUrl = Field(\n",
    "        ...,\n",
    "        description=\"URL of the specific Tweet. Example: https://twitter.com/SpaceX/status/1775965705031479537 or https://x.com/SpaceX/status/1775965705031479537\"\n",
    "    )\n",
    "\n",
    "class Tweet(BaseModel):\n",
    "    text: str = Field(..., description=\"The main content/text of the Tweet\")\n",
    "    url: HttpUrl = Field(\n",
    "        ...,\n",
    "        description=\"Canonical URL of the Tweet. Example: https://twitter.com/SpaceX/status/1775965705031479537\"\n",
    "    )\n",
    "    author_username: str = Field(..., description=\"Username/handle of the Tweet author (e.g., @SpaceX)\")\n",
    "    author_name: Optional[str] = Field(None, description=\"Display name of the Tweet author (e.g., SpaceX)\")\n",
    "    timestamp: datetime.datetime = Field(..., description=\"Date and time the Tweet was posted\")\n",
    "    likes: Optional[int] = Field(None, description=\"Number of likes\")\n",
    "    retweets: Optional[int] = Field(None, description=\"Number of retweets/reposts\")\n",
    "    replies: Optional[int] = Field(None, description=\"Number of replies\")\n",
    "    media_urls: Optional[List[HttpUrl]] = Field(\n",
    "        None,\n",
    "        description=\"List of URLs for attached media (images, videos). Example: ['https://pbs.twimg.com/media/GKVTkUgXoAAXCm2?format=jpg&name=large']\"\n",
    "    )\n",
    "    tweet_id: str = Field(..., description=\"Unique ID of the Tweet\")\n",
    "\n",
    "# Note: A \"PLP\" equivalent for Twitter might be search results or a user's timeline.\n",
    "# Let's model a search scraper.\n",
    "class TwitterSearchScraperInputs(BaseModel):\n",
    "    search_query: str = Field(..., description=\"Search query string for Twitter (e.g., '#AI', 'from:googleai')\")\n",
    "    max_count: Optional[int] = Field(None, description=\"Limit the number of tweets that are returned\")\n",
    "\n",
    "class TwitterSearchItem(BaseModel):\n",
    "    tweet_url: HttpUrl = Field(\n",
    "        ...,\n",
    "        description=\"URL of a Tweet found in the search results. Example: https://twitter.com/GoogleAI/status/1775210244816888182\"\n",
    "    )\n",
    "\n",
    "# def twitter_tweet_scraper(item: TwitterTweetScraperInputs) -> Tweet:\n",
    "def twitter_tweet_scraper(item: List[TwitterTweetScraperInputs]) -> Tweet:\n",
    "    \"\"\"\n",
    "    Scraper to fetch information about a single Tweet from its URL.\n",
    "    \"\"\"\n",
    "    # Use a fixed past datetime for the dummy data for consistency\n",
    "    dummy_timestamp = datetime.datetime(2025, 4, 4, 14, 30, 0, tzinfo=datetime.timezone.utc)\n",
    "\n",
    "    return Tweet(\n",
    "        text=\"Falcon 9 launches 23 @Starlink satellites to orbit from Florida\",\n",
    "        url=\"https://twitter.com/SpaceX/status/1775965705031479537\",\n",
    "        author_username=\"@SpaceX\",\n",
    "        author_name=\"SpaceX\",\n",
    "        timestamp=dummy_timestamp,\n",
    "        likes=15200,\n",
    "        retweets=2100,\n",
    "        replies=550,\n",
    "        media_urls=[\"https://pbs.twimg.com/media/GKVTkUgXoAAXCm2?format=jpg&name=large\"],\n",
    "        tweet_id=\"1775965705031479537\"\n",
    "    )\n",
    "\n",
    "def twitter_search_scraper(item: TwitterSearchScraperInputs) -> List[TwitterSearchItem]:\n",
    "    \"\"\"\n",
    "    Scraper to fetch Tweet URLs from a Twitter search results page.\n",
    "    \"\"\"\n",
    "    return [\n",
    "        TwitterSearchItem(tweet_url=\"https://twitter.com/GoogleAI/status/1775210244816888182\"),\n",
    "        TwitterSearchItem(tweet_url=\"https://twitter.com/OpenAI/status/1775197560445178113\")\n",
    "    ]\n"
   ]
  },
  {
   "cell_type": "markdown",
   "id": "638c9a0a-c072-4c5d-ad21-eca09a2c305e",
   "metadata": {},
   "source": [
    "Below is a list of all dummy tools. We will convert them to openai tools to help store them in a database. "
   ]
  },
  {
   "cell_type": "code",
   "execution_count": 443,
   "id": "7b1c7254-4811-4c5c-abc2-431a02747399",
   "metadata": {},
   "outputs": [],
   "source": [
    "import inspect\n",
    "from langchain_core.utils.function_calling import convert_to_openai_tool\n",
    "tool_list = [amazon_product_scraper, amazon_plp_scraper, walmart_product_scraper, walmart_plp_scraper, target_product_scraper, target_plp_scraper, twitter_tweet_scraper, twitter_search_scraper]\n",
    "\n",
    "def get_output_details_for_tool(tool):\n",
    "    signature = inspect.signature(tool)\n",
    "    return_annotation = signature.return_annotation\n",
    "\n",
    "    # Check if the return annotation is a generic type like List[Model]\n",
    "    origin = typing.get_origin(return_annotation)\n",
    "    if origin is list or origin is List: # Handles both list and typing.List\n",
    "        args = typing.get_args(return_annotation)\n",
    "        if args:\n",
    "            inner_type = args[0]\n",
    "            # Check if the inner type is a Pydantic model\n",
    "            if inspect.isclass(inner_type) and issubclass(inner_type, BaseModel):\n",
    "                return inner_type.model_json_schema()\n",
    "    # Optional: Handle case where the function returns a single Pydantic model directly\n",
    "    elif inspect.isclass(return_annotation) and issubclass(return_annotation, BaseModel):\n",
    "        return return_annotation.model_json_schema()\n",
    "    raise Exception(\"Could not determine output format of tool\")\n",
    "\n",
    "tool_details = []\n",
    "for i in tool_list:\n",
    "    tool_details.append({\n",
    "        \"openai_spec\": convert_to_openai_tool(i),\n",
    "        \"output_details\": get_output_details_for_tool(i)\n",
    "    })"
   ]
  },
  {
   "cell_type": "code",
   "execution_count": 445,
   "id": "f039ea35-57e0-4eb5-970e-0948bb26b684",
   "metadata": {},
   "outputs": [
    {
     "name": "stdout",
     "output_type": "stream",
     "text": [
      "{'properties': {'title': {'description': 'Product title', 'title': 'Title', 'type': 'string'}, 'url': {'description': 'Canonical Amazon product URL. Example: https://www.amazon.com/dp/B09B2SBHQK', 'format': 'uri', 'maxLength': 2083, 'minLength': 1, 'title': 'Url', 'type': 'string'}, 'image_urls': {'description': \"List of product image URLs. Example: ['https://m.media-amazon.com/images/I/71xb2xkN5qL._AC_SL1500_.jpg']\", 'items': {'format': 'uri', 'maxLength': 2083, 'minLength': 1, 'type': 'string'}, 'title': 'Image Urls', 'type': 'array'}, 'price': {'description': 'Pricing details of the product', 'title': 'Price', 'type': 'number'}, 'rating': {'anyOf': [{'type': 'number'}, {'type': 'null'}], 'default': None, 'description': 'Product rating (0-5)', 'title': 'Rating'}, 'review_count': {'anyOf': [{'type': 'integer'}, {'type': 'null'}], 'default': 0, 'description': 'Number of reviews', 'title': 'Review Count'}, 'availability': {'anyOf': [{'type': 'string'}, {'type': 'null'}], 'default': None, 'description': \"Product availability status (e.g., 'In Stock', 'Currently unavailable')\", 'title': 'Availability'}, 'features': {'anyOf': [{'items': {'type': 'string'}, 'type': 'array'}, {'type': 'null'}], 'default': None, 'description': 'List of key product features (often bullet points)', 'title': 'Features'}, 'seller': {'anyOf': [{'type': 'string'}, {'type': 'null'}], 'default': None, 'description': \"Seller name (e.g., 'Amazon.com', 'Sold by X, Fulfilled by Amazon')\", 'title': 'Seller'}, 'asin': {'description': 'Amazon Standard Identification Number (ASIN)', 'title': 'Asin', 'type': 'string'}}, 'required': ['title', 'url', 'image_urls', 'price', 'asin'], 'title': 'AmazonProduct', 'type': 'object'}\n",
      "\n",
      "{'properties': {'url': {'description': 'URL of the Amazon product found on the listing page. Example: https://www.amazon.com/dp/B09B2SBHQK', 'format': 'uri', 'maxLength': 2083, 'minLength': 1, 'title': 'Url', 'type': 'string'}}, 'required': ['url'], 'title': 'AmazonPLPItem', 'type': 'object'}\n",
      "\n",
      "{'properties': {'title': {'description': 'Product title', 'title': 'Title', 'type': 'string'}, 'url': {'description': 'Canonical Walmart product URL. Example: https://www.walmart.com/ip/onn-Android-TV-4K-UHD-Streaming-Device-with-Voice-Remote-Control-HDMI-Cable/606421073', 'format': 'uri', 'maxLength': 2083, 'minLength': 1, 'title': 'Url', 'type': 'string'}, 'image_urls': {'description': \"List of product image URLs. Example: ['https://i5.walmartimages.com/seo/onn-Android-TV-4K-UHD-Streaming-Device-with-Voice-Remote-Control-HDMI-Cable_bfc53150-8b17-4644-b94d-f66b3a7de9e2.1a0c28b08e4b4049aa7aad7d339b1db1.jpeg']\", 'items': {'format': 'uri', 'maxLength': 2083, 'minLength': 1, 'type': 'string'}, 'title': 'Image Urls', 'type': 'array'}, 'price': {'description': 'Pricing details of the product', 'title': 'Price', 'type': 'number'}, 'rating': {'anyOf': [{'type': 'number'}, {'type': 'null'}], 'default': None, 'description': 'Product rating (0-5)', 'title': 'Rating'}, 'review_count': {'anyOf': [{'type': 'integer'}, {'type': 'null'}], 'default': 0, 'description': 'Number of reviews', 'title': 'Review Count'}, 'availability': {'anyOf': [{'type': 'string'}, {'type': 'null'}], 'default': None, 'description': 'Product availability status', 'title': 'Availability'}, 'features': {'anyOf': [{'items': {'type': 'string'}, 'type': 'array'}, {'type': 'null'}], 'default': None, 'description': 'List of key product features', 'title': 'Features'}, 'seller': {'anyOf': [{'type': 'string'}, {'type': 'null'}], 'default': None, 'description': \"Seller name (e.g., 'Walmart', 'Sold and shipped by...')\", 'title': 'Seller'}, 'item_id': {'description': 'Walmart Item ID or Product ID', 'title': 'Item Id', 'type': 'string'}}, 'required': ['title', 'url', 'image_urls', 'price', 'item_id'], 'title': 'WalmartProduct', 'type': 'object'}\n",
      "\n",
      "{'properties': {'url': {'description': 'URL of the Walmart product found on the listing page. Example: https://www.walmart.com/ip/onn-4K-Pro-Streaming-Device-Google-TV-Hands-Free-Voice-Control-Find-My-Remote/5094809539', 'format': 'uri', 'maxLength': 2083, 'minLength': 1, 'title': 'Url', 'type': 'string'}}, 'required': ['url'], 'title': 'WalmartPLPItem', 'type': 'object'}\n",
      "\n",
      "{'properties': {'title': {'description': 'Product title', 'title': 'Title', 'type': 'string'}, 'url': {'description': 'Canonical Target product URL. Example: https://www.target.com/p/apple-ipad-10-9-inch-wi-fi-64gb-silver/-/A-87464948', 'format': 'uri', 'maxLength': 2083, 'minLength': 1, 'title': 'Url', 'type': 'string'}, 'image_urls': {'description': \"List of product image URLs. Example: ['https://target.scene7.com/is/image/Target/GUEST_f3d138a9-9f8f-46ae-9da3-e427b3d6aba2?wid=800&hei=800&qlt=80&fmt=webp']\", 'items': {'format': 'uri', 'maxLength': 2083, 'minLength': 1, 'type': 'string'}, 'title': 'Image Urls', 'type': 'array'}, 'price': {'description': 'Pricing details of the product', 'title': 'Price', 'type': 'number'}, 'rating': {'anyOf': [{'type': 'number'}, {'type': 'null'}], 'default': None, 'description': 'Product rating (usually 0-5)', 'title': 'Rating'}, 'review_count': {'anyOf': [{'type': 'integer'}, {'type': 'null'}], 'default': 0, 'description': 'Number of reviews', 'title': 'Review Count'}, 'availability': {'anyOf': [{'type': 'string'}, {'type': 'null'}], 'default': None, 'description': \"Product availability status (e.g., 'In stock', 'Out of stock', 'Ship it', 'Pick it up')\", 'title': 'Availability'}, 'features': {'anyOf': [{'items': {'type': 'string'}, 'type': 'array'}, {'type': 'null'}], 'default': None, 'description': 'List of key product features or highlights', 'title': 'Features'}, 'seller': {'anyOf': [{'type': 'string'}, {'type': 'null'}], 'default': 'Target', 'description': \"Usually 'Target' or 'Sold and shipped by Target'\", 'title': 'Seller'}, 'tcin': {'description': 'Target Category ID Number (TCIN)', 'title': 'Tcin', 'type': 'string'}}, 'required': ['title', 'url', 'image_urls', 'price', 'tcin'], 'title': 'TargetProduct', 'type': 'object'}\n",
      "\n",
      "{'properties': {'url': {'description': 'URL of the Target product found on the listing page. Example: https://www.target.com/p/keurig-k-mini-single-serve-k-cup-pod-coffee-maker/-/A-53790797', 'format': 'uri', 'maxLength': 2083, 'minLength': 1, 'title': 'Url', 'type': 'string'}}, 'required': ['url'], 'title': 'TargetPLPItem', 'type': 'object'}\n",
      "\n",
      "{'properties': {'text': {'description': 'The main content/text of the Tweet', 'title': 'Text', 'type': 'string'}, 'url': {'description': 'Canonical URL of the Tweet. Example: https://twitter.com/SpaceX/status/1775965705031479537', 'format': 'uri', 'maxLength': 2083, 'minLength': 1, 'title': 'Url', 'type': 'string'}, 'author_username': {'description': 'Username/handle of the Tweet author (e.g., @SpaceX)', 'title': 'Author Username', 'type': 'string'}, 'author_name': {'anyOf': [{'type': 'string'}, {'type': 'null'}], 'default': None, 'description': 'Display name of the Tweet author (e.g., SpaceX)', 'title': 'Author Name'}, 'timestamp': {'description': 'Date and time the Tweet was posted', 'format': 'date-time', 'title': 'Timestamp', 'type': 'string'}, 'likes': {'anyOf': [{'type': 'integer'}, {'type': 'null'}], 'default': None, 'description': 'Number of likes', 'title': 'Likes'}, 'retweets': {'anyOf': [{'type': 'integer'}, {'type': 'null'}], 'default': None, 'description': 'Number of retweets/reposts', 'title': 'Retweets'}, 'replies': {'anyOf': [{'type': 'integer'}, {'type': 'null'}], 'default': None, 'description': 'Number of replies', 'title': 'Replies'}, 'media_urls': {'anyOf': [{'items': {'format': 'uri', 'maxLength': 2083, 'minLength': 1, 'type': 'string'}, 'type': 'array'}, {'type': 'null'}], 'default': None, 'description': \"List of URLs for attached media (images, videos). Example: ['https://pbs.twimg.com/media/GKVTkUgXoAAXCm2?format=jpg&name=large']\", 'title': 'Media Urls'}, 'tweet_id': {'description': 'Unique ID of the Tweet', 'title': 'Tweet Id', 'type': 'string'}}, 'required': ['text', 'url', 'author_username', 'timestamp', 'tweet_id'], 'title': 'Tweet', 'type': 'object'}\n",
      "\n",
      "{'properties': {'tweet_url': {'description': 'URL of a Tweet found in the search results. Example: https://twitter.com/GoogleAI/status/1775210244816888182', 'format': 'uri', 'maxLength': 2083, 'minLength': 1, 'title': 'Tweet Url', 'type': 'string'}}, 'required': ['tweet_url'], 'title': 'TwitterSearchItem', 'type': 'object'}\n",
      "\n"
     ]
    }
   ],
   "source": [
    "for i in tool_details:\n",
    "    print(i['output_details'])\n",
    "    print()"
   ]
  },
  {
   "cell_type": "markdown",
   "id": "8b0da764-6c04-4769-8024-870b2e8899b8",
   "metadata": {},
   "source": [
    "Set the OPENAI api key if not present in the environment"
   ]
  },
  {
   "cell_type": "code",
   "execution_count": 426,
   "id": "45778704-38f9-4ab2-9600-19e52a29bdff",
   "metadata": {},
   "outputs": [],
   "source": [
    "import os, getpass\n",
    "\n",
    "def _set_env(var: str):\n",
    "    if not os.environ.get(var):\n",
    "        os.environ[var] = getpass.getpass(f\"{var}: \")\n",
    "\n",
    "_set_env(\"OPENAI_API_KEY\")"
   ]
  },
  {
   "cell_type": "markdown",
   "id": "e3145844-f284-4577-bcd7-70f85714bea8",
   "metadata": {},
   "source": [
    "Set up gpt 4 model with tools"
   ]
  },
  {
   "cell_type": "code",
   "execution_count": 427,
   "id": "5f71b942-4a1b-4363-8ceb-fd599bf54c31",
   "metadata": {},
   "outputs": [],
   "source": [
    "from langchain_openai import ChatOpenAI\n",
    "llm = ChatOpenAI(model=\"gpt-4o\")\n",
    "llm_with_tools = llm.bind_tools([i['openai_spec'] for i in tool_details], parallel_tool_calls=False)"
   ]
  },
  {
   "cell_type": "code",
   "execution_count": 134,
   "id": "7da26f1f-31ba-4bee-8e9e-8e67128dd063",
   "metadata": {},
   "outputs": [],
   "source": [
    "\n",
    "#input from human\n",
    "messages = [HumanMessage(content=\"Can you get me ratings data from https://www.amazon.in/gp/browse.html?node=1968126031&ref_=nav_em_sbc_mfashion_innerwear_0_2_10_6 a 100 products should do\",name=\"Puneet\")]"
   ]
  },
  {
   "cell_type": "code",
   "execution_count": 135,
   "id": "d36898db-24cb-4aca-bf4f-3dfe13e21d05",
   "metadata": {},
   "outputs": [],
   "source": [
    "message = llm_with_tools.invoke(messages)"
   ]
  },
  {
   "cell_type": "code",
   "execution_count": 164,
   "id": "94ece2e8-93fb-4164-8930-b0d54dd35e4b",
   "metadata": {},
   "outputs": [
    {
     "data": {
      "text/plain": [
       "AIMessage(content='', additional_kwargs={'tool_calls': [{'id': 'call_AEB9qv0GS9yY6sRqw2B5X1yD', 'function': {'arguments': '{\"item\":{\"product_url\":\"https://www.amazon.in/gp/browse.html?node=1968126031&ref_=nav_em_sbc_mfashion_innerwear_0_2_10_6\"}}', 'name': 'amazon_plp_scraper'}, 'type': 'function'}], 'refusal': None}, response_metadata={'token_usage': {'completion_tokens': 56, 'prompt_tokens': 286, 'total_tokens': 342, 'completion_tokens_details': {'accepted_prediction_tokens': 0, 'audio_tokens': 0, 'reasoning_tokens': 0, 'rejected_prediction_tokens': 0}, 'prompt_tokens_details': {'audio_tokens': 0, 'cached_tokens': 0}}, 'model_name': 'gpt-4o-2024-08-06', 'system_fingerprint': 'fp_6dd05565ef', 'id': 'chatcmpl-BIEAg0WKHm9lWd7UURQjTpZJZq7Uo', 'finish_reason': 'tool_calls', 'logprobs': None}, id='run-172f2be9-e2f0-454d-bd1a-0291708b3485-0', tool_calls=[{'name': 'amazon_plp_scraper', 'args': {'item': {'product_url': 'https://www.amazon.in/gp/browse.html?node=1968126031&ref_=nav_em_sbc_mfashion_innerwear_0_2_10_6'}}, 'id': 'call_AEB9qv0GS9yY6sRqw2B5X1yD', 'type': 'tool_call'}], usage_metadata={'input_tokens': 286, 'output_tokens': 56, 'total_tokens': 342, 'input_token_details': {'audio': 0, 'cache_read': 0}, 'output_token_details': {'audio': 0, 'reasoning': 0}})"
      ]
     },
     "execution_count": 164,
     "metadata": {},
     "output_type": "execute_result"
    }
   ],
   "source": [
    "message"
   ]
  },
  {
   "cell_type": "code",
   "execution_count": 138,
   "id": "7c6e3ad5-4782-4229-822e-661124acbf01",
   "metadata": {},
   "outputs": [],
   "source": [
    "messages.append(message)"
   ]
  },
  {
   "cell_type": "code",
   "execution_count": 172,
   "id": "4e807831-43f3-4095-9774-8ff7a1a5355c",
   "metadata": {},
   "outputs": [],
   "source": [
    "tool_name = messages[-1].tool_calls[0]['name']"
   ]
  },
  {
   "cell_type": "code",
   "execution_count": 173,
   "id": "12060fb3-8097-47ce-aa67-069bf680dcf5",
   "metadata": {},
   "outputs": [],
   "source": [
    "tool_function_object = globals().get(tool_name)"
   ]
  },
  {
   "cell_type": "code",
   "execution_count": 181,
   "id": "3cc4ebcb-bffb-4ab6-985d-738601ddc153",
   "metadata": {},
   "outputs": [
    {
     "data": {
      "text/plain": [
       "<function __main__.amazon_plp_scraper(item: __main__.AmazonPLPInputs) -> List[__main__.AmazonPLPItem]>"
      ]
     },
     "execution_count": 181,
     "metadata": {},
     "output_type": "execute_result"
    }
   ],
   "source": [
    "tool_function_object"
   ]
  },
  {
   "cell_type": "code",
   "execution_count": 177,
   "id": "a4e543c3-4891-4d40-b1e8-f09c767ffaa9",
   "metadata": {},
   "outputs": [],
   "source": [
    "import inspect\n",
    "signature = inspect.signature(tool_function_object)"
   ]
  },
  {
   "cell_type": "code",
   "execution_count": 180,
   "id": "566fd9d6-bf22-47e0-b4b1-5aeff4b474dc",
   "metadata": {},
   "outputs": [
    {
     "name": "stdout",
     "output_type": "stream",
     "text": [
      "OrderedDict([('item', <Parameter \"item: __main__.AmazonPLPInputs\">)])\n",
      "typing.List[__main__.AmazonPLPItem]\n"
     ]
    }
   ],
   "source": [
    "print(signature.parameters)\n",
    "print(signature.return_annotation)"
   ]
  },
  {
   "cell_type": "code",
   "execution_count": 182,
   "id": "b95ba899-83eb-4fe2-9dec-6509664940c6",
   "metadata": {},
   "outputs": [
    {
     "data": {
      "text/plain": [
       "mappingproxy"
      ]
     },
     "execution_count": 182,
     "metadata": {},
     "output_type": "execute_result"
    }
   ],
   "source": [
    "type(signature.parameters)"
   ]
  },
  {
   "cell_type": "code",
   "execution_count": 210,
   "id": "1b252c99-5daf-407f-8a96-1b9cb4487f18",
   "metadata": {},
   "outputs": [],
   "source": [
    "import typing\n",
    "return_annotation = signature.return_annotation\n",
    "\n",
    "# Check if the return annotation is a generic type like List[Model]\n",
    "origin = typing.get_origin(return_annotation)\n",
    "if origin is list or origin is List: # Handles both list and typing.List\n",
    "    args = typing.get_args(return_annotation)\n",
    "    if args:\n",
    "        inner_type = args[0]\n",
    "        # Check if the inner type is a Pydantic model\n",
    "        if inspect.isclass(inner_type) and issubclass(inner_type, BaseModel):\n",
    "            output_model = inner_type\n",
    "# Optional: Handle case where the function returns a single Pydantic model directly\n",
    "elif inspect.isclass(return_annotation) and issubclass(return_annotation, BaseModel):\n",
    "    output_model = return_annotation"
   ]
  },
  {
   "cell_type": "code",
   "execution_count": 212,
   "id": "54f78547-8df5-478a-ad6b-2625d2dbb886",
   "metadata": {},
   "outputs": [],
   "source": [
    "output_schema = output_model.model_json_schema()"
   ]
  },
  {
   "cell_type": "code",
   "execution_count": 200,
   "id": "9fa5e303-67e8-4990-8fe9-45ffb62e53c7",
   "metadata": {},
   "outputs": [],
   "source": [
    "input_schema = signature.parameters[next(iter(signature.parameters))].annotation.model_json_schema()"
   ]
  },
  {
   "cell_type": "code",
   "execution_count": 214,
   "id": "5c74e9d3-d410-41cf-9fd5-0135b357910c",
   "metadata": {},
   "outputs": [
    {
     "data": {
      "text/plain": [
       "{'properties': {'url': {'description': 'URL of the amazon product',\n",
       "   'format': 'uri',\n",
       "   'maxLength': 2083,\n",
       "   'minLength': 1,\n",
       "   'title': 'Url',\n",
       "   'type': 'string'}},\n",
       " 'required': ['url'],\n",
       " 'title': 'AmazonPLPItem',\n",
       " 'type': 'object'}"
      ]
     },
     "execution_count": 214,
     "metadata": {},
     "output_type": "execute_result"
    }
   ],
   "source": [
    "output_schema"
   ]
  },
  {
   "cell_type": "code",
   "execution_count": 155,
   "id": "ac03b906-0bb5-4c35-b02e-c7a82de6fab5",
   "metadata": {},
   "outputs": [],
   "source": [
    "a = '''\n",
    "Create a dummy output for the tool amazon_plp_scraper \n",
    "\n",
    "the function's input schema is\n",
    "\n",
    "'''+json.dumps(input_schema)+\"\"\"\n",
    "\n",
    "and  output schema is\n",
    "\n",
    "\"\"\"+json.dumps(output_schema)+\"\"\"\n",
    "\n",
    "please only provide the output in json format\n",
    "\"\"\""
   ]
  },
  {
   "cell_type": "code",
   "execution_count": 156,
   "id": "2a95dc5a-cd60-4cc1-af5f-5ae4a6691a57",
   "metadata": {},
   "outputs": [
    {
     "name": "stdout",
     "output_type": "stream",
     "text": [
      "('\\n'\n",
      " 'Create a dummy output for the tool amazon_plp_scraper \\n'\n",
      " '\\n'\n",
      " \"the function's input schema is\\n\"\n",
      " '\\n'\n",
      " '{\"properties\": {\"product_url\": {\"description\": \"Amazon product listing page '\n",
      " 'URL.\\\\n    Example URLS are: \\\\n    '\n",
      " 'https://www.amazon.in/s?k=pesticides&crid=2OH7HH2FLCMK6&sprefix=pesticide%2Caps%2C219&ref=nb_sb_noss_2\\\\n    '\n",
      " 'https://www.amazon.in/gp/browse.html?node=1389401031&ref_=nav_em_sbc_mobcomp_all_mobiles_0_2_8_2\", '\n",
      " '\"format\": \"uri\", \"maxLength\": 2083, \"minLength\": 1, \"title\": \"Product Url\", '\n",
      " '\"type\": \"string\"}, \"max_count\": {\"anyOf\": [{\"type\": \"integer\"}, {\"type\": '\n",
      " '\"null\"}], \"default\": null, \"description\": \"Limit the number of products that '\n",
      " 'are returned\", \"title\": \"Max Count\"}}, \"required\": [\"product_url\"], \"title\": '\n",
      " '\"AmazonPLPInputs\", \"type\": \"object\"}\\n'\n",
      " '\\n'\n",
      " 'and  output schema is\\n'\n",
      " '\\n'\n",
      " '{\"properties\": {\"url\": {\"description\": \"URL of the amazon product\", '\n",
      " '\"format\": \"uri\", \"maxLength\": 2083, \"minLength\": 1, \"title\": \"Url\", \"type\": '\n",
      " '\"string\"}}, \"required\": [\"url\"], \"title\": \"AmazonPLPItem\", \"type\": '\n",
      " '\"object\"}\\n'\n",
      " '\\n'\n",
      " 'please only provide the output in json format\\n')\n"
     ]
    }
   ],
   "source": [
    "pprint(a)"
   ]
  },
  {
   "cell_type": "code",
   "execution_count": 157,
   "id": "058a572c-c77f-47f4-8866-a998eab642a8",
   "metadata": {},
   "outputs": [],
   "source": [
    "temp = llm.invoke(a)"
   ]
  },
  {
   "cell_type": "code",
   "execution_count": 158,
   "id": "bfc9f90a-1b07-426b-9d29-464aaf87d46d",
   "metadata": {},
   "outputs": [
    {
     "data": {
      "text/plain": [
       "AIMessage(content='```json\\n{\\n  \"url\": \"https://www.amazon.in/dp/B08N5WRWNW\"\\n}\\n```', additional_kwargs={'refusal': None}, response_metadata={'token_usage': {'completion_tokens': 27, 'prompt_tokens': 330, 'total_tokens': 357, 'completion_tokens_details': {'accepted_prediction_tokens': 0, 'audio_tokens': 0, 'reasoning_tokens': 0, 'rejected_prediction_tokens': 0}, 'prompt_tokens_details': {'audio_tokens': 0, 'cached_tokens': 0}}, 'model_name': 'gpt-4o-2024-08-06', 'system_fingerprint': 'fp_6dd05565ef', 'id': 'chatcmpl-BIEDKnOkLcPaqMDCP3mRaMBlcONfs', 'finish_reason': 'stop', 'logprobs': None}, id='run-b63c475e-89a4-43bc-b42c-3fe108cc8ae3-0', usage_metadata={'input_tokens': 330, 'output_tokens': 27, 'total_tokens': 357, 'input_token_details': {'audio': 0, 'cache_read': 0}, 'output_token_details': {'audio': 0, 'reasoning': 0}})"
      ]
     },
     "execution_count": 158,
     "metadata": {},
     "output_type": "execute_result"
    }
   ],
   "source": [
    "temp"
   ]
  },
  {
   "cell_type": "code",
   "execution_count": 159,
   "id": "de901054-8f57-44a7-8063-a34724bc1349",
   "metadata": {},
   "outputs": [],
   "source": [
    "from langchain_core.messages import AIMessage, ToolMessage, SystemMessage\n",
    "tool_call_name = messages[-1].tool_calls[0][\"name\"]\n",
    "tool_call_id = messages[-1].tool_calls[0][\"id\"]\n",
    "tool_message = ToolMessage(name=tool_call_name, content=temp.content, tool_call_id=tool_call_id)"
   ]
  },
  {
   "cell_type": "code",
   "execution_count": 160,
   "id": "7624b35b-d41f-4a79-a124-0f6dff64bffd",
   "metadata": {},
   "outputs": [
    {
     "data": {
      "text/plain": [
       "'```json\\n{\\n  \"url\": \"https://www.amazon.in/dp/B08N5WRWNW\"\\n}\\n```'"
      ]
     },
     "execution_count": 160,
     "metadata": {},
     "output_type": "execute_result"
    }
   ],
   "source": [
    "temp.content"
   ]
  },
  {
   "cell_type": "code",
   "execution_count": 161,
   "id": "63d46b86-2d13-460c-88de-0373a58f1ae6",
   "metadata": {},
   "outputs": [],
   "source": [
    "messages_test = [messages[0], messages[1], tool_message]"
   ]
  },
  {
   "cell_type": "code",
   "execution_count": 162,
   "id": "a2691fd8-2ff4-4573-8f6f-d20b8d80c13c",
   "metadata": {},
   "outputs": [
    {
     "data": {
      "text/plain": [
       "[HumanMessage(content='Can you get me ratings data from https://www.amazon.in/gp/browse.html?node=1968126031&ref_=nav_em_sbc_mfashion_innerwear_0_2_10_6 a 100 products should do', additional_kwargs={}, response_metadata={}, name='Puneet'),\n",
       " AIMessage(content='', additional_kwargs={'tool_calls': [{'id': 'call_AEB9qv0GS9yY6sRqw2B5X1yD', 'function': {'arguments': '{\"item\":{\"product_url\":\"https://www.amazon.in/gp/browse.html?node=1968126031&ref_=nav_em_sbc_mfashion_innerwear_0_2_10_6\"}}', 'name': 'amazon_plp_scraper'}, 'type': 'function'}], 'refusal': None}, response_metadata={'token_usage': {'completion_tokens': 56, 'prompt_tokens': 286, 'total_tokens': 342, 'completion_tokens_details': {'accepted_prediction_tokens': 0, 'audio_tokens': 0, 'reasoning_tokens': 0, 'rejected_prediction_tokens': 0}, 'prompt_tokens_details': {'audio_tokens': 0, 'cached_tokens': 0}}, 'model_name': 'gpt-4o-2024-08-06', 'system_fingerprint': 'fp_6dd05565ef', 'id': 'chatcmpl-BIEAg0WKHm9lWd7UURQjTpZJZq7Uo', 'finish_reason': 'tool_calls', 'logprobs': None}, id='run-172f2be9-e2f0-454d-bd1a-0291708b3485-0', tool_calls=[{'name': 'amazon_plp_scraper', 'args': {'item': {'product_url': 'https://www.amazon.in/gp/browse.html?node=1968126031&ref_=nav_em_sbc_mfashion_innerwear_0_2_10_6'}}, 'id': 'call_AEB9qv0GS9yY6sRqw2B5X1yD', 'type': 'tool_call'}], usage_metadata={'input_tokens': 286, 'output_tokens': 56, 'total_tokens': 342, 'input_token_details': {'audio': 0, 'cache_read': 0}, 'output_token_details': {'audio': 0, 'reasoning': 0}}),\n",
       " ToolMessage(content='```json\\n{\\n  \"url\": \"https://www.amazon.in/dp/B08N5WRWNW\"\\n}\\n```', name='amazon_plp_scraper', tool_call_id='call_AEB9qv0GS9yY6sRqw2B5X1yD')]"
      ]
     },
     "execution_count": 162,
     "metadata": {},
     "output_type": "execute_result"
    }
   ],
   "source": [
    "messages_test"
   ]
  },
  {
   "cell_type": "code",
   "execution_count": 163,
   "id": "846a3bf6-1f83-4452-9361-ebd39486a8b3",
   "metadata": {},
   "outputs": [
    {
     "data": {
      "text/plain": [
       "AIMessage(content='I have the URL of a product from the Amazon listing page. Here it is: [Link to Product](https://www.amazon.in/dp/B08N5WRWNW). To get detailed ratings data, I will need to scrape the product page for this item. Let me do that for you.', additional_kwargs={'tool_calls': [{'id': 'call_7jzgpOCWyAi5dOgkXXFL4cZP', 'function': {'arguments': '{\"item\":{\"product_url\":\"https://www.amazon.in/dp/B08N5WRWNW\"}}', 'name': 'amazon_product_scraper'}, 'type': 'function'}], 'refusal': None}, response_metadata={'token_usage': {'completion_tokens': 97, 'prompt_tokens': 378, 'total_tokens': 475, 'completion_tokens_details': {'accepted_prediction_tokens': 0, 'audio_tokens': 0, 'reasoning_tokens': 0, 'rejected_prediction_tokens': 0}, 'prompt_tokens_details': {'audio_tokens': 0, 'cached_tokens': 0}}, 'model_name': 'gpt-4o-2024-08-06', 'system_fingerprint': 'fp_6dd05565ef', 'id': 'chatcmpl-BIEDqGXqYkqvWhqVJlmZpsPrH5X1L', 'finish_reason': 'tool_calls', 'logprobs': None}, id='run-316c71ff-5b88-4240-83a8-e4d16f75db75-0', tool_calls=[{'name': 'amazon_product_scraper', 'args': {'item': {'product_url': 'https://www.amazon.in/dp/B08N5WRWNW'}}, 'id': 'call_7jzgpOCWyAi5dOgkXXFL4cZP', 'type': 'tool_call'}], usage_metadata={'input_tokens': 378, 'output_tokens': 97, 'total_tokens': 475, 'input_token_details': {'audio': 0, 'cache_read': 0}, 'output_token_details': {'audio': 0, 'reasoning': 0}})"
      ]
     },
     "execution_count": 163,
     "metadata": {},
     "output_type": "execute_result"
    }
   ],
   "source": [
    "llm_with_tools.invoke(messages_test)"
   ]
  },
  {
   "cell_type": "code",
   "execution_count": null,
   "id": "a7390690-bc58-4888-b3e7-06412406a572",
   "metadata": {},
   "outputs": [],
   "source": []
  },
  {
   "cell_type": "code",
   "execution_count": 127,
   "id": "179088e2-a752-48fd-a543-a72b24185701",
   "metadata": {},
   "outputs": [
    {
     "data": {
      "text/plain": [
       "AIMessage(content='', additional_kwargs={'tool_calls': [{'id': 'call_ZgYU9kkYt0kgvh12Tnr6XhiX', 'function': {'arguments': '{\"item\":{\"product_url\":\"https://www.amazon.in/Hugo-Boss-Commissioner-Analog-Watch-1513833/dp/B08X4M3VDP/ref=sr_1_1?dib=eyJ2IjoiMSJ9.X7TwV6yg-QF2R1VXJlr1_USbhBi0WoMUWyptiBNnhOm88jR8kdbFK3T0ZjpSvg-CYlYWfgiJ5_sQoGToqoO_w0BJFfCk7xtiwx8uxxWUlpauwX_lsOVhOkruhzwR6iisUYmPlytzBpb0-JKbcOhJT7yKqTHSZqZY8dWv5kxDX-J3FM7ctiO03cwsTHhTjSFpD9UhRbV3inD9bKMd88M1rfKRs-Mro6vg0ECqKoULtmY1P2vA5lmEfXbqXCF4yK4eYaq-9Gp9z3MLW3jaHWTKWqMFKXGgvq0ZaDU6LuAWyIM.qpxL4z7S4A_pwCUgmPfgt5P8I75qfQOfq8girTsYREM&dib_tag=se&pf_rd_i=2563504031&pf_rd_m=A1VBAL9TL5WCBF&pf_rd_s=merchandised-search-12&qid=1743683862&refinements=p_89%3ABOSS&rnid=3837712031&s=watches&sr=1-1\"}}', 'name': 'amazon_product_scraper'}, 'type': 'function'}], 'refusal': None}, response_metadata={'token_usage': {'completion_tokens': 372, 'prompt_tokens': 598, 'total_tokens': 970, 'completion_tokens_details': {'accepted_prediction_tokens': 0, 'audio_tokens': 0, 'reasoning_tokens': 0, 'rejected_prediction_tokens': 0}, 'prompt_tokens_details': {'audio_tokens': 0, 'cached_tokens': 0}}, 'model_name': 'gpt-4o-2024-08-06', 'system_fingerprint': 'fp_6dd05565ef', 'id': 'chatcmpl-BIE7OpIa96mK42m91ADJQBtV03ddY', 'finish_reason': 'tool_calls', 'logprobs': None}, id='run-01bfe9ac-50a1-4fb3-83d8-d1f5a7e0bfc3-0', tool_calls=[{'name': 'amazon_product_scraper', 'args': {'item': {'product_url': 'https://www.amazon.in/Hugo-Boss-Commissioner-Analog-Watch-1513833/dp/B08X4M3VDP/ref=sr_1_1?dib=eyJ2IjoiMSJ9.X7TwV6yg-QF2R1VXJlr1_USbhBi0WoMUWyptiBNnhOm88jR8kdbFK3T0ZjpSvg-CYlYWfgiJ5_sQoGToqoO_w0BJFfCk7xtiwx8uxxWUlpauwX_lsOVhOkruhzwR6iisUYmPlytzBpb0-JKbcOhJT7yKqTHSZqZY8dWv5kxDX-J3FM7ctiO03cwsTHhTjSFpD9UhRbV3inD9bKMd88M1rfKRs-Mro6vg0ECqKoULtmY1P2vA5lmEfXbqXCF4yK4eYaq-9Gp9z3MLW3jaHWTKWqMFKXGgvq0ZaDU6LuAWyIM.qpxL4z7S4A_pwCUgmPfgt5P8I75qfQOfq8girTsYREM&dib_tag=se&pf_rd_i=2563504031&pf_rd_m=A1VBAL9TL5WCBF&pf_rd_s=merchandised-search-12&qid=1743683862&refinements=p_89%3ABOSS&rnid=3837712031&s=watches&sr=1-1'}}, 'id': 'call_ZgYU9kkYt0kgvh12Tnr6XhiX', 'type': 'tool_call'}], usage_metadata={'input_tokens': 598, 'output_tokens': 372, 'total_tokens': 970, 'input_token_details': {'audio': 0, 'cache_read': 0}, 'output_token_details': {'audio': 0, 'reasoning': 0}})"
      ]
     },
     "execution_count": 127,
     "metadata": {},
     "output_type": "execute_result"
    }
   ],
   "source": [
    "##Calling the required scraper directly\n",
    "\n",
    "llm_with_tools.invoke(\"Can you get me the rating data for this product https://www.amazon.in/Hugo-Boss-Commissioner-Analog-Watch-1513833/dp/B08X4M3VDP/ref=sr_1_1?dib=eyJ2IjoiMSJ9.X7TwV6yg-QF2R1VXJlr1_USbhBi0WoMUWyptiBNnhOm88jR8kdbFK3T0ZjpSvg-CYlYWfgiJ5_sQoGToqoO_w0BJFfCk7xtiwx8uxxWUlpauwX_lsOVhOkruhzwR6iisUYmPlytzBpb0-JKbcOhJT7yKqTHSZqZY8dWv5kxDX-J3FM7ctiO03cwsTHhTjSFpD9UhRbV3inD9bKMd88M1rfKRs-Mro6vg0ECqKoULtmY1P2vA5lmEfXbqXCF4yK4eYaq-9Gp9z3MLW3jaHWTKWqMFKXGgvq0ZaDU6LuAWyIM.qpxL4z7S4A_pwCUgmPfgt5P8I75qfQOfq8girTsYREM&dib_tag=se&pf_rd_i=2563504031&pf_rd_m=A1VBAL9TL5WCBF&pf_rd_s=merchandised-search-12&qid=1743683862&refinements=p_89%3ABOSS&rnid=3837712031&s=watches&sr=1-1\")"
   ]
  },
  {
   "cell_type": "code",
   "execution_count": 216,
   "id": "bdbfafed-6ab2-47d1-b091-477ac793d9f7",
   "metadata": {},
   "outputs": [],
   "source": [
    "m =llm.invoke(\"Hello!\")"
   ]
  },
  {
   "cell_type": "code",
   "execution_count": 218,
   "id": "1bdf9194-554a-4d8b-a73e-4514ad08a5d3",
   "metadata": {},
   "outputs": [
    {
     "data": {
      "text/plain": [
       "[]"
      ]
     },
     "execution_count": 218,
     "metadata": {},
     "output_type": "execute_result"
    }
   ],
   "source": [
    "m.tool_calls"
   ]
  },
  {
   "cell_type": "code",
   "execution_count": 250,
   "id": "ef7b97e8-abbe-4c31-95c3-cdf05d234765",
   "metadata": {},
   "outputs": [
    {
     "data": {
      "text/plain": [
       "[{'name': 'amazon_plp_scraper',\n",
       "  'args': {'item': {'product_url': 'https://www.amazon.in/gp/browse.html?node=1968126031&ref_=nav_em_sbc_mfashion_innerwear_0_2_10_6'}},\n",
       "  'id': 'call_AEB9qv0GS9yY6sRqw2B5X1yD',\n",
       "  'type': 'tool_call'}]"
      ]
     },
     "execution_count": 250,
     "metadata": {},
     "output_type": "execute_result"
    }
   ],
   "source": [
    "message.tool_calls"
   ]
  },
  {
   "cell_type": "markdown",
   "id": "941a6814-c6fd-41a4-9f04-1b7ee9c2397e",
   "metadata": {},
   "source": [
    "Defining the functions required for the custom mock excuter"
   ]
  },
  {
   "cell_type": "code",
   "execution_count": 455,
   "id": "0d7a6333-860b-4e2a-9079-802e3bb77edf",
   "metadata": {},
   "outputs": [],
   "source": [
    "from langchain_core.messages import AIMessage, HumanMessage, SystemMessage\n",
    "\n",
    "def get_tool_schema(ai_message: AIMessage) -> str:\n",
    "    if not ai_message.tool_calls:\n",
    "        raise Exception(\"The given AI message has no tool calls\")\n",
    "    tool_call = ai_message.tool_calls[0]\n",
    "    tool = next((x for x in tool_details if x['openai_spec']['function']['name'] == tool_call['name']), None)\n",
    "    if not tool:\n",
    "        raise Exception(\"Tool not found\")\n",
    "    return tool\n",
    "\n",
    "def mock_tool_call(tool_schema):\n",
    "\n",
    "    a = f'''\n",
    "Create a dummy output for the tool {tool_schema['openai_spec']['function']['name']} \n",
    "\n",
    "the function's input schema is\n",
    "\n",
    "'''+json.dumps(tool_schema['openai_spec']['function']['parameters'])+\"\"\"\n",
    "\n",
    "and  output schema is\n",
    "\n",
    "\"\"\"+json.dumps(tool_schema['output_details'])+\"\"\"\n",
    "\n",
    "please only provide the output in json format\n",
    "\"\"\"    \n",
    "    return llm.invoke(a)\n",
    "\n",
    "def get_json_tool_output(ai_message):\n",
    "    content = ai_message.content\n",
    "    json_start_index = content.find('{')\n",
    "    json_end_index = content.rfind('}')\n",
    "    try:\n",
    "        return json.loads(content[json_start_index: json_end_index+1])\n",
    "    except Exception as e:\n",
    "        print(\"Could not parse content : \"+content)\n",
    "        return content\n",
    "\n",
    "def get_tool_message(ai_message, dummy_output_message):\n",
    "    tool_call = ai_message.tool_calls[0]\n",
    "    return ToolMessage(name=tool_call['name'], content=dummy_output_message.content, tool_call_id=tool_call['id'])\n",
    "\n",
    "from pydantic import BaseModel, Field\n",
    "from typing import Any, Dict, List, Literal\n",
    "\n",
    "class OrpheusToolCall(BaseModel):\n",
    "    name: str\n",
    "    input: Any = Field(..., description=\"Input JSON for the tool call\")\n",
    "    output: Any = Field(..., description=\"Output JSON from the tool call\")\n",
    "\n",
    "def get_orpheus_tool_call(ai_message, json_tool_output):\n",
    "    tool_call = ai_message.tool_calls[0]\n",
    "    return OrpheusToolCall(\n",
    "        name=tool_call['name'],\n",
    "        input=tool_call['args'],\n",
    "        output=json_tool_output\n",
    "    )"
   ]
  },
  {
   "cell_type": "code",
   "execution_count": 456,
   "id": "c06350a7-979d-44db-9542-c0bc94accd4c",
   "metadata": {},
   "outputs": [
    {
     "data": {
      "image/png": "[encoded data removed]",
      "text/plain": [
       "<IPython.core.display.Image object>"
      ]
     },
     "metadata": {},
     "output_type": "display_data"
    }
   ],
   "source": [
    "from langgraph.graph import MessagesState\n",
    "\n",
    "from langgraph.graph import START, StateGraph, END\n",
    "from langgraph.prebuilt import tools_condition\n",
    "from langgraph.prebuilt import ToolNode\n",
    "from IPython.display import Image, display\n",
    "\n",
    "class MessagesState(MessagesState):\n",
    "    # Add any keys needed beyond messages, which is pre-built \n",
    "    orpheus_tool_calls: List[OrpheusToolCall]\n",
    "\n",
    "def tool_calling_llm(state: MessagesState):\n",
    "    return {\"messages\": [llm_with_tools.invoke(state[\"messages\"])]}\n",
    "\n",
    "def custom_tool_call(state: MessagesState):\n",
    "    ai_message = state['messages'][-1]\n",
    "    tool_schema = get_tool_schema(ai_message)\n",
    "    dummy_output_message = mock_tool_call(tool_schema)\n",
    "    json_tool_output = get_json_tool_output(dummy_output_message)\n",
    "    tool_message = get_tool_message(ai_message, dummy_output_message)\n",
    "    orpheus_tool_call = get_orpheus_tool_call(ai_message, json_tool_output)\n",
    "    current_orpheus_tool_call = state.orpheus_tool_calls if state and hasattr(state, 'orpheus_tool_calls') else []\n",
    "    return {\"messages\":[tool_message], \"orpheus_tool_calls\": current_orpheus_tool_call + [orpheus_tool_call]}\n",
    "\n",
    "def is_tool_call(state) -> Literal[\"custom_tool_call\", END]:\n",
    "    latest_message = state['messages'][-1]\n",
    "    if latest_message.tool_calls:\n",
    "        return \"custom_tool_call\"\n",
    "    return END\n",
    "    \n",
    "\n",
    "builder = StateGraph(MessagesState)\n",
    "builder.add_node(\"tool_calling_llm\", tool_calling_llm)\n",
    "builder.add_node(\"custom_tool_call\", custom_tool_call)\n",
    "builder.add_edge(START, \"tool_calling_llm\")\n",
    "builder.add_conditional_edges(\"tool_calling_llm\", is_tool_call)\n",
    "builder.add_edge(\"custom_tool_call\", \"tool_calling_llm\")\n",
    "graph = builder.compile()\n",
    "display(Image(graph.get_graph(xray=True).draw_mermaid_png()))"
   ]
  },
  {
   "cell_type": "code",
   "execution_count": 461,
   "id": "2caf07d0-6172-4abb-b6bf-c539233cda28",
   "metadata": {},
   "outputs": [],
   "source": [
    "\n",
    "system_prompt = [SystemMessage(content=\"\"\"\n",
    "You are an assistant for orchestration scraping or other long running tasks.\n",
    "\n",
    "You need to understand the users input and use the appropriate scraper to fetch the desired information. \n",
    "In some cases it will require more than one scraper to get the desired results.\n",
    "Users might ask for a specific amount of data, if insufficient data is present that is not a problem. Do not mention it to the user.\n",
    "\n",
    "The user query is:\n",
    "\n",
    "\"\"\")]\n",
    "messages = [HumanMessage(content=\"Can you get price and rating info from https://www.amazon.in/gp/browse.html?node=1968126031&ref_=nav_em_sbc_mfashion_innerwear_0_2_10_6 a 100 products should do\",name=\"Puneet\")]\n",
    "state = graph.invoke(\n",
    "    {\"messages\":system_prompt+messages},\n",
    "    config={\"max_iterations\": 10}\n",
    ")"
   ]
  },
  {
   "cell_type": "code",
   "execution_count": 462,
   "id": "86eefc28-2915-4f88-905a-2312104d7517",
   "metadata": {},
   "outputs": [
    {
     "name": "stdout",
     "output_type": "stream",
     "text": [
      "SystemMessage(content='\\nYou are an assistant for orchestration scraping or other long running tasks.\\n\\nYou need to understand the users input and use the appropriate scraper to fetch the desired information. \\nIn some cases it will require more than one scraper to get the desired results.\\nUsers might ask for a specific amount of data, if insufficient data is present that is not a problem. Do not mention it to the user.\\n\\nThe user query is:\\n\\n', additional_kwargs={}, response_metadata={}, id='a9601126-0da9-4ecb-9e7c-95841d21f6c8')\n",
      "\n",
      "    \n",
      "    ===============\n",
      "    \n",
      "    \n",
      "HumanMessage(content='Can you get price and rating info from https://www.amazon.in/gp/browse.html?node=1968126031&ref_=nav_em_sbc_mfashion_innerwear_0_2_10_6 a 100 products should do', additional_kwargs={}, response_metadata={}, name='Puneet', id='104004fb-c71e-41f1-b5ee-514ea9a7b7a9')\n",
      "\n",
      "    \n",
      "    ===============\n",
      "    \n",
      "    \n",
      "AIMessage(content='', additional_kwargs={'tool_calls': [{'id': 'call_eDn4cWBwP8wjtukMTc9xgMjY', 'function': {'arguments': '{\"item\":{\"product_url\":\"https://www.amazon.in/gp/browse.html?node=1968126031&ref_=nav_em_sbc_mfashion_innerwear_0_2_10_6\",\"max_count\":100}}', 'name': 'amazon_plp_scraper'}, 'type': 'function'}], 'refusal': None}, response_metadata={'token_usage': {'completion_tokens': 61, 'prompt_tokens': 1069, 'total_tokens': 1130, 'completion_tokens_details': {'accepted_prediction_tokens': 0, 'audio_tokens': 0, 'reasoning_tokens': 0, 'rejected_prediction_tokens': 0}, 'prompt_tokens_details': {'audio_tokens': 0, 'cached_tokens': 0}}, 'model_name': 'gpt-4o-2024-08-06', 'system_fingerprint': 'fp_6dd05565ef', 'id': 'chatcmpl-BIga0S90c8vWjk9SX3emBrOFBSrNv', 'finish_reason': 'tool_calls', 'logprobs': None}, id='run-952ed361-431a-4800-95d4-fe9a7e8125ce-0', tool_calls=[{'name': 'amazon_plp_scraper', 'args': {'item': {'product_url': 'https://www.amazon.in/gp/browse.html?node=1968126031&ref_=nav_em_sbc_mfashion_innerwear_0_2_10_6', 'max_count': 100}}, 'id': 'call_eDn4cWBwP8wjtukMTc9xgMjY', 'type': 'tool_call'}], usage_metadata={'input_tokens': 1069, 'output_tokens': 61, 'total_tokens': 1130, 'input_token_details': {'audio': 0, 'cache_read': 0}, 'output_token_details': {'audio': 0, 'reasoning': 0}})\n",
      "\n",
      "    \n",
      "    ===============\n",
      "    \n",
      "    \n",
      "ToolMessage(content='```json\\n{\\n    \"url\": \"https://www.amazon.com/dp/B09B2SBHQK\"\\n}\\n```', name='amazon_plp_scraper', id='0e9f6cb1-789f-4d12-abd7-8fb70a5b2200', tool_call_id='call_eDn4cWBwP8wjtukMTc9xgMjY')\n",
      "\n",
      "    \n",
      "    ===============\n",
      "    \n",
      "    \n",
      "AIMessage(content=\"I've scraped the provided Amazon product listing page, but it appears there was an issue with fetching detailed product data. Could you please check the URL and try again, or let me know if you'd like to attempt a different approach?\", additional_kwargs={'refusal': None}, response_metadata={'token_usage': {'completion_tokens': 47, 'prompt_tokens': 1166, 'total_tokens': 1213, 'completion_tokens_details': {'accepted_prediction_tokens': 0, 'audio_tokens': 0, 'reasoning_tokens': 0, 'rejected_prediction_tokens': 0}, 'prompt_tokens_details': {'audio_tokens': 0, 'cached_tokens': 1024}}, 'model_name': 'gpt-4o-2024-08-06', 'system_fingerprint': 'fp_6dd05565ef', 'id': 'chatcmpl-BIga31yloktUU0iyelCH6t1FllqY3', 'finish_reason': 'stop', 'logprobs': None}, id='run-e996b9ae-d86f-45b1-8da0-6e82c7666d98-0', usage_metadata={'input_tokens': 1166, 'output_tokens': 47, 'total_tokens': 1213, 'input_token_details': {'audio': 0, 'cache_read': 1024}, 'output_token_details': {'audio': 0, 'reasoning': 0}})\n",
      "\n",
      "    \n",
      "    ===============\n",
      "    \n",
      "    \n"
     ]
    }
   ],
   "source": [
    "for i in state['messages']:\n",
    "    pprint(i)\n",
    "    print(\"\"\"\n",
    "    \n",
    "    ===============\n",
    "    \n",
    "    \"\"\")"
   ]
  },
  {
   "cell_type": "code",
   "execution_count": null,
   "id": "85e8201e-7e33-4b7c-8959-26eefa0896d8",
   "metadata": {},
   "outputs": [],
   "source": []
  }
 ],
 "metadata": {
  "kernelspec": {
   "display_name": "Python 3 (ipykernel)",
   "language": "python",
   "name": "python3"
  },
  "language_info": {
   "codemirror_mode": {
    "name": "ipython",
    "version": 3
   },
   "file_extension": ".py",
   "mimetype": "text/x-python",
   "name": "python",
   "nbconvert_exporter": "python",
   "pygments_lexer": "ipython3",
   "version": "3.10.13"
  }
 },
 "nbformat": 4,
 "nbformat_minor": 5
}
